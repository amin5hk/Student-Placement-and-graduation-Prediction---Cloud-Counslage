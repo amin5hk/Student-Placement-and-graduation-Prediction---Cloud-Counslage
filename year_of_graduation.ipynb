{
 "cells": [
  {
   "cell_type": "code",
   "execution_count": 4,
   "metadata": {},
   "outputs": [
    {
     "name": "stderr",
     "output_type": "stream",
     "text": [
      "C:\\Users\\Amin\\AppData\\Local\\Temp\\ipykernel_4268\\1639572248.py:12: UserWarning: Could not infer format, so each element will be parsed individually, falling back to `dateutil`. To ensure parsing is consistent and as-expected, please specify a format.\n",
      "  data['Created'] = pd.to_datetime(data['Created'])\n"
     ]
    },
    {
     "data": {
      "text/html": [
       "<div>\n",
       "<style scoped>\n",
       "    .dataframe tbody tr th:only-of-type {\n",
       "        vertical-align: middle;\n",
       "    }\n",
       "\n",
       "    .dataframe tbody tr th {\n",
       "        vertical-align: top;\n",
       "    }\n",
       "\n",
       "    .dataframe thead th {\n",
       "        text-align: right;\n",
       "    }\n",
       "</style>\n",
       "<table border=\"1\" class=\"dataframe\">\n",
       "  <thead>\n",
       "    <tr style=\"text-align: right;\">\n",
       "      <th></th>\n",
       "      <th>Created</th>\n",
       "      <th>Academic Year</th>\n",
       "      <th>Graduation Year</th>\n",
       "    </tr>\n",
       "  </thead>\n",
       "  <tbody>\n",
       "    <tr>\n",
       "      <th>467</th>\n",
       "      <td>2021-04-24 16:54:12</td>\n",
       "      <td>3.0</td>\n",
       "      <td>2022</td>\n",
       "    </tr>\n",
       "    <tr>\n",
       "      <th>470</th>\n",
       "      <td>2021-04-23 14:22:56</td>\n",
       "      <td>2.0</td>\n",
       "      <td>2023</td>\n",
       "    </tr>\n",
       "    <tr>\n",
       "      <th>473</th>\n",
       "      <td>2021-04-23 12:59:50</td>\n",
       "      <td>3.0</td>\n",
       "      <td>2022</td>\n",
       "    </tr>\n",
       "    <tr>\n",
       "      <th>475</th>\n",
       "      <td>2021-04-22 13:07:12</td>\n",
       "      <td>2.0</td>\n",
       "      <td>2023</td>\n",
       "    </tr>\n",
       "    <tr>\n",
       "      <th>476</th>\n",
       "      <td>2021-04-22 12:59:13</td>\n",
       "      <td>2.0</td>\n",
       "      <td>2023</td>\n",
       "    </tr>\n",
       "    <tr>\n",
       "      <th>...</th>\n",
       "      <td>...</td>\n",
       "      <td>...</td>\n",
       "      <td>...</td>\n",
       "    </tr>\n",
       "    <tr>\n",
       "      <th>5281</th>\n",
       "      <td>2019-10-16 10:20:23</td>\n",
       "      <td>3.0</td>\n",
       "      <td>2021</td>\n",
       "    </tr>\n",
       "    <tr>\n",
       "      <th>5287</th>\n",
       "      <td>2019-10-16 10:20:10</td>\n",
       "      <td>3.0</td>\n",
       "      <td>2021</td>\n",
       "    </tr>\n",
       "    <tr>\n",
       "      <th>5291</th>\n",
       "      <td>2019-10-16 10:19:57</td>\n",
       "      <td>3.0</td>\n",
       "      <td>2021</td>\n",
       "    </tr>\n",
       "    <tr>\n",
       "      <th>5301</th>\n",
       "      <td>2019-10-16 10:19:08</td>\n",
       "      <td>3.0</td>\n",
       "      <td>2021</td>\n",
       "    </tr>\n",
       "    <tr>\n",
       "      <th>5302</th>\n",
       "      <td>2019-10-16 10:19:06</td>\n",
       "      <td>3.0</td>\n",
       "      <td>2021</td>\n",
       "    </tr>\n",
       "  </tbody>\n",
       "</table>\n",
       "<p>2518 rows × 3 columns</p>\n",
       "</div>"
      ],
      "text/plain": [
       "                 Created  Academic Year  Graduation Year\n",
       "467  2021-04-24 16:54:12            3.0             2022\n",
       "470  2021-04-23 14:22:56            2.0             2023\n",
       "473  2021-04-23 12:59:50            3.0             2022\n",
       "475  2021-04-22 13:07:12            2.0             2023\n",
       "476  2021-04-22 12:59:13            2.0             2023\n",
       "...                  ...            ...              ...\n",
       "5281 2019-10-16 10:20:23            3.0             2021\n",
       "5287 2019-10-16 10:20:10            3.0             2021\n",
       "5291 2019-10-16 10:19:57            3.0             2021\n",
       "5301 2019-10-16 10:19:08            3.0             2021\n",
       "5302 2019-10-16 10:19:06            3.0             2021\n",
       "\n",
       "[2518 rows x 3 columns]"
      ]
     },
     "execution_count": 4,
     "metadata": {},
     "output_type": "execute_result"
    }
   ],
   "source": [
    "import pandas as pd\n",
    "from datetime import datetime\n",
    "\n",
    "# Load the dataset\n",
    "file_path = 'Year of Graduation Data/Final Lead Data.csv'\n",
    "data = pd.read_csv(file_path)\n",
    "\n",
    "# Filter out rows with null 'Academic Year'\n",
    "data = data.dropna(subset=['Academic Year'])\n",
    "\n",
    "# Convert 'created' column to datetime\n",
    "data['Created'] = pd.to_datetime(data['Created'])\n",
    "\n",
    "# Function to calculate graduation year\n",
    "def calculate_graduation_year(row):\n",
    "    created_date = row['Created']\n",
    "    academic_year = int(row['Academic Year'])\n",
    "    \n",
    "    # Determine if the created date is before or after July\n",
    "    if created_date.month < 7:\n",
    "        current_year = created_date.year - 1\n",
    "    else:\n",
    "        current_year = created_date.year\n",
    "    \n",
    "    # Calculate the graduation year\n",
    "    graduation_year = current_year + (5 - academic_year)\n",
    "    \n",
    "    return graduation_year\n",
    "\n",
    "# Apply the function to calculate graduation year for each row\n",
    "data['Graduation Year'] = data.apply(calculate_graduation_year, axis=1)\n",
    "\n",
    "# Show the updated dataframe\n",
    "data[['Created', 'Academic Year', 'Graduation Year']]\n"
   ]
  },
  {
   "cell_type": "code",
   "execution_count": 5,
   "metadata": {},
   "outputs": [
    {
     "data": {
      "text/plain": [
       "'Year of Graduation Data/Updated_Lead_Data.csv'"
      ]
     },
     "execution_count": 5,
     "metadata": {},
     "output_type": "execute_result"
    }
   ],
   "source": [
    "# Save the updated dataframe to a new CSV file\n",
    "output_file_path = 'Year of Graduation Data/Updated_Lead_Data.csv'\n",
    "data.to_csv(output_file_path, index=False)\n",
    "\n",
    "output_file_path\n"
   ]
  }
 ],
 "metadata": {
  "kernelspec": {
   "display_name": "Python 3",
   "language": "python",
   "name": "python3"
  },
  "language_info": {
   "codemirror_mode": {
    "name": "ipython",
    "version": 3
   },
   "file_extension": ".py",
   "mimetype": "text/x-python",
   "name": "python",
   "nbconvert_exporter": "python",
   "pygments_lexer": "ipython3",
   "version": "3.11.9"
  }
 },
 "nbformat": 4,
 "nbformat_minor": 2
}
