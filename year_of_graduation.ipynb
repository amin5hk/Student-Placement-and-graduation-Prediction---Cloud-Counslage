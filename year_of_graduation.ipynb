{
 "cells": [
  {
   "cell_type": "code",
   "execution_count": 1,
   "metadata": {},
   "outputs": [
    {
     "name": "stdout",
     "output_type": "stream",
     "text": [
      "Year of Graduation column added and dataset updated.\n"
     ]
    }
   ],
   "source": [
    "import pandas as pd\n",
    "\n",
    "# Load the dataset\n",
    "file_path = \"Final Lead Data.csv\"\n",
    "data = pd.read_csv(file_path)\n",
    "\n",
    "# Assuming 'Academic Year' contains numerical values (e.g., 1, 2, 3, 4)\n",
    "\n",
    "years_remaining_mapping = {\n",
    "    1: 2027,\n",
    "    2: 2026,\n",
    "    3: 2025,\n",
    "    4: 2024\n",
    "}\n",
    "\n",
    "# Create a new column 'Year of Graduation' based on the mapping\n",
    "data['Year of Graduation'] = data['Academic Year'].map(years_remaining_mapping)\n",
    "\n",
    "# Save the updated dataset\n",
    "updated_file_path = \"Year of Graduation Data/Final Lead Data Updated.csv\"\n",
    "data.to_csv(updated_file_path, index=False)\n",
    "\n",
    "print(\"Year of Graduation column added and dataset updated.\")\n"
   ]
  }
 ],
 "metadata": {
  "kernelspec": {
   "display_name": "Python 3",
   "language": "python",
   "name": "python3"
  },
  "language_info": {
   "codemirror_mode": {
    "name": "ipython",
    "version": 3
   },
   "file_extension": ".py",
   "mimetype": "text/x-python",
   "name": "python",
   "nbconvert_exporter": "python",
   "pygments_lexer": "ipython3",
   "version": "3.11.8"
  }
 },
 "nbformat": 4,
 "nbformat_minor": 2
}
